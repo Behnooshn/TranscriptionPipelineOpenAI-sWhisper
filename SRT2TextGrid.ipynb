{
  "nbformat": 4,
  "nbformat_minor": 0,
  "metadata": {
    "colab": {
      "provenance": [],
      "authorship_tag": "ABX9TyNAMlSB990kI/b3qfw1YjT/",
      "include_colab_link": true
    },
    "kernelspec": {
      "name": "python3",
      "display_name": "Python 3"
    },
    "language_info": {
      "name": "python"
    }
  },
  "cells": [
    {
      "cell_type": "markdown",
      "metadata": {
        "id": "view-in-github",
        "colab_type": "text"
      },
      "source": [
        "<a href=\"https://colab.research.google.com/github/Behnooshn/TranscriptionPipelineWhisper/blob/main/SRT2TextGrid.ipynb\" target=\"_parent\"><img src=\"https://colab.research.google.com/assets/colab-badge.svg\" alt=\"Open In Colab\"/></a>"
      ]
    },
    {
      "cell_type": "code",
      "source": [
        "# Install the necessary libraries\n",
        "!pip install pydub pysrt\n",
        "\n",
        "# Import necessary modules\n",
        "import os\n",
        "from pydub import AudioSegment\n",
        "import pysrt\n",
        "\n",
        "# Function to convert SRT to TextGrid\n",
        "def convert_srt_to_textgrid(srt_content, output_textgrid_path):\n",
        "    # Load SRT content\n",
        "    subtitles = pysrt.from_string(srt_content)\n",
        "\n",
        "    # Create TextGrid structure\n",
        "    textgrid = f'''File type = \"ooTextFile\"\n",
        "Object class = \"TextGrid\"\n",
        "xmin = 0\n",
        "xmax = {subtitles[-1].end.ordinal / 1e3}  # Use ordinal to get milliseconds and convert to seconds\n",
        "tiers? <exists>\n",
        "size = 1\n",
        "item []:\n",
        "    item [1]:\n",
        "        class = \"IntervalTier\"\n",
        "        name = \"captions\"\n",
        "        xmin = 0\n",
        "        xmax = {subtitles[-1].end.ordinal / 1e3}  # Use ordinal to get milliseconds and convert to seconds\n",
        "        intervals: size = {len(subtitles)}'''\n",
        "\n",
        "    # Add intervals to TextGrid\n",
        "    for i, subtitle in enumerate(subtitles):\n",
        "        start_time = subtitle.start.ordinal / 1e3  # Convert to seconds\n",
        "        end_time = subtitle.end.ordinal / 1e3  # Convert to seconds\n",
        "\n",
        "        # Escape double quotes within the subtitle text\n",
        "        subtitle_text = subtitle.text.replace('\"', r'\\\"')\n",
        "\n",
        "        textgrid += f'''\n",
        "        intervals [{i + 1}]:\n",
        "            xmin = {start_time}\n",
        "            xmax = {end_time}\n",
        "            text = \"{subtitle_text}\"'''\n",
        "\n",
        "    # Write TextGrid to file\n",
        "    with open(output_textgrid_path, 'w', encoding=\"utf-16\") as textgrid_file:\n",
        "        textgrid_file.write(textgrid)\n",
        "\n",
        "# Replace these paths with your actual file paths\n",
        "uploaded_file_path = '/content/Audio32FFM.srt'\n",
        "output_textgrid_path = '/content/Audio32FFM.TextGrid'\n",
        "\n",
        "# Read the content of the uploaded SRT file\n",
        "with open(uploaded_file_path, 'r') as file:\n",
        "    srt_content = file.read()\n",
        "\n",
        "# Convert SRT to TextGrid\n",
        "convert_srt_to_textgrid(srt_content, output_textgrid_path)\n",
        "\n",
        "# Verify the output file was created\n",
        "os.listdir('/content/')\n"
      ],
      "metadata": {
        "id": "bXuJ5HycC6GG",
        "outputId": "132fc4a1-cc7c-4f86-f3a1-c3fff46d4291",
        "colab": {
          "base_uri": "https://localhost:8080/"
        }
      },
      "execution_count": null,
      "outputs": [
        {
          "output_type": "stream",
          "name": "stdout",
          "text": [
            "Requirement already satisfied: pydub in /usr/local/lib/python3.10/dist-packages (0.25.1)\n",
            "Requirement already satisfied: pysrt in /usr/local/lib/python3.10/dist-packages (1.1.2)\n",
            "Requirement already satisfied: chardet in /usr/local/lib/python3.10/dist-packages (from pysrt) (5.2.0)\n"
          ]
        },
        {
          "output_type": "execute_result",
          "data": {
            "text/plain": [
              "['.config',\n",
              " 'Audio30FF.TextGrid',\n",
              " 'Audio31FF.TextGrid',\n",
              " 'Audio29FF.srt',\n",
              " 'Audio31FF.srt',\n",
              " 'Audio29FF.TextGrid',\n",
              " 'Audio32FFM.srt',\n",
              " 'Audio32FFM.TextGrid',\n",
              " 'Audio30FF.srt',\n",
              " 'sample_data']"
            ]
          },
          "metadata": {},
          "execution_count": 4
        }
      ]
    },
    {
      "cell_type": "code",
      "source": [],
      "metadata": {
        "id": "pYcGVQwjIb5x"
      },
      "execution_count": null,
      "outputs": []
    }
  ]
}